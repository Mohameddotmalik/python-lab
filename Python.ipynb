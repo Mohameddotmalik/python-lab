{
  "cells": [
    {
      "cell_type": "markdown",
      "metadata": {
        "id": "view-in-github",
        "colab_type": "text"
      },
      "source": [
        "<a href=\"https://colab.research.google.com/github/Mohameddotmalik/python-lab/blob/main/Python.ipynb\" target=\"_parent\"><img src=\"https://colab.research.google.com/assets/colab-badge.svg\" alt=\"Open In Colab\"/></a>"
      ]
    },
    {
      "cell_type": "code",
      "execution_count": null,
      "metadata": {
        "colab": {
          "base_uri": "https://localhost:8080/"
        },
        "id": "8aw69r3Ud4oB",
        "outputId": "fc919834-75be-4200-b492-48a5a501ce20"
      },
      "outputs": [
        {
          "output_type": "stream",
          "name": "stdout",
          "text": [
            "Choice 1: Add, 2: Sub, 3: Div, 4: Mul, 5: Quit\n",
            "Enter the choice of operartion: 1\n",
            "You have choosen addition Option: \n",
            "Enter the value for A: 5\n",
            "Enter the value for B: 4\n",
            "The Result 5 + 4 = 9\n"
          ]
        }
      ],
      "source": [
        "#Arithmetic operations\n",
        "print(\"Choice 1: Add, 2: Sub, 3: Div, 4: Mul, 5: Quit\")\n",
        "n1=input(\"Enter the choice of operartion: \")\n",
        "n=int(n1)\n",
        "if(n==1):\n",
        "  print(\"You have choosen addition Option: \")\n",
        "  a1=input(\"Enter the value for A: \")\n",
        "  b1=input(\"Enter the value for B: \")\n",
        "  a=int(a1)\n",
        "  b=int(b1)\n",
        "  c=a+b\n",
        "  print(\"The Result\",a,\"+\",b,\"=\",c)\n",
        "elif(n==2):\n",
        "  print(\"You have choosen subtraction option:\")\n",
        "  a1=input(\"Enter the value for A: \")\n",
        "  b1=input(\"Enter the value for B: \")\n",
        "  a=int(a1)\n",
        "  b=int(b1)\n",
        "  c=a-b\n",
        "  print(\"The Result\",a,\"-\",b,\"=\",c)\n",
        "elif(n==3):\n",
        "  print(\"You have chosen division option: \")\n",
        "  a1=input(\"Enter the value for A: \")\n",
        "  b1=input(\"Enter the value for B: \")\n",
        "  a=int(a1)\n",
        "  b=int(b1)\n",
        "  c=a/b\n",
        "  print(\"The result\",a,\"/\",b,\"=\",c)\n",
        "elif(n==4):\n",
        "  print(\"You have chosen multiplication option: \")\n",
        "  a1=input(\"Enter the value for A: \")\n",
        "  b1=input(\"Enter the value for B: \")\n",
        "  a=int(a1)\n",
        "  b=int(b1)\n",
        "  c=a/b\n",
        "  print(\"The result\",a,\"*\",b,\"=\",c)\n",
        "elif(n==5):\n",
        "  print(\"You have given a wrong: \",n)\n",
        "  exit()"
      ]
    }
  ],
  "metadata": {
    "colab": {
      "name": "Python.ipynb",
      "provenance": [],
      "authorship_tag": "ABX9TyMmKfPs8y8qUaOUPab9tM/b",
      "include_colab_link": true
    },
    "kernelspec": {
      "display_name": "Python 3",
      "name": "python3"
    },
    "language_info": {
      "name": "python"
    }
  },
  "nbformat": 4,
  "nbformat_minor": 0
}