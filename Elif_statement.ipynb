{
  "nbformat": 4,
  "nbformat_minor": 0,
  "metadata": {
    "colab": {
      "name": "Elif statement.ipynb",
      "provenance": [],
      "authorship_tag": "ABX9TyMXQlJTNrIOYoR/zD2QuuAd",
      "include_colab_link": true
    },
    "kernelspec": {
      "name": "python3",
      "display_name": "Python 3"
    },
    "language_info": {
      "name": "python"
    }
  },
  "cells": [
    {
      "cell_type": "markdown",
      "metadata": {
        "id": "view-in-github",
        "colab_type": "text"
      },
      "source": [
        "<a href=\"https://colab.research.google.com/github/Mohameddotmalik/python-lab/blob/main/Elif_statement.ipynb\" target=\"_parent\"><img src=\"https://colab.research.google.com/assets/colab-badge.svg\" alt=\"Open In Colab\"/></a>"
      ]
    },
    {
      "cell_type": "code",
      "execution_count": 1,
      "metadata": {
        "colab": {
          "base_uri": "https://localhost:8080/"
        },
        "id": "A2kCuUSc-ys9",
        "outputId": "1a40e824-e4bb-494f-c675-848a99e1341e"
      },
      "outputs": [
        {
          "output_type": "stream",
          "name": "stdout",
          "text": [
            "Please enter an integer in the range 0....5: 4\n",
            "four\n",
            "done\n"
          ]
        }
      ],
      "source": [
        "#elif statement\n",
        "value=eval(input(\"Please enter an integer in the range 0....5: \"))\n",
        "if value<0:\n",
        "  print(\"To0o small\")\n",
        "else:\n",
        "  if value ==0:\n",
        "    print(\"zero\")\n",
        "  else:\n",
        "    if value==1:\n",
        "      print(\"one\")\n",
        "    else:\n",
        "      if value ==2:\n",
        "        print(\"two\")\n",
        "      else:\n",
        "        if value==3:\n",
        "          print(\"three\")\n",
        "        else:\n",
        "          if value==4:\n",
        "            print(\"four\")\n",
        "          else:\n",
        "            if value==5:\n",
        "              print(\"five\")\n",
        "            else:\n",
        "              print(\"too large\")\n",
        "  print(\"done\")"
      ]
    }
  ]
}